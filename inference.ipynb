{
 "cells": [
  {
   "cell_type": "code",
   "execution_count": 1,
   "metadata": {},
   "outputs": [],
   "source": [
    "%load_ext autoreload\n",
    "%autoreload 2"
   ]
  },
  {
   "cell_type": "code",
   "execution_count": 3,
   "metadata": {},
   "outputs": [],
   "source": [
    "from scripts import predict\n",
    "from scripts import util\n",
    "from scripts import mmseqs2\n",
    "\n",
    "import random\n",
    "import os\n",
    "\n",
    "from absl import logging\n",
    "logging.set_verbosity(logging.DEBUG)"
   ]
  },
  {
   "cell_type": "code",
   "execution_count": 4,
   "metadata": {},
   "outputs": [],
   "source": [
    "jobname = 'T4_lysozyme'\n",
    "sequence = (\"MNIFEMLRIDEGLRLKIYKDTEGYYTIGIGHLLTKSPSLNAAKSELDKAIGRNCNGVIT\"\n",
    "            \"KDEAEKLFNQDVDAAVRGILRNAKLKPVYDSLDAVRRCALINMVFQMGETGVAGFTNSL\"\n",
    "            \"RMLQQKRWDEAAVNLAKSRWYNQTPNRAKRVITTFRTGTWDAYKNL\" )\n",
    "\n",
    "# PDB IDs, written uppercase with chain ID specified\n",
    "pdbs = []\n",
    "\n",
    "# Hyperparameters\n",
    "n_models = 1\n",
    "msa_depths = [32]"
   ]
  },
  {
   "cell_type": "code",
   "execution_count": 7,
   "metadata": {},
   "outputs": [
    {
     "name": "stderr",
     "output_type": "stream",
     "text": [
      "DEBUG:absl:ID: hruUTlhiL4nBtw-UNTrXC5D1FvAONwQ_iUJq5g\n",
      "INFO:absl:seq\tpdb\tcid\tevalue\n",
      "WARNING:absl:No templates found.\n",
      "INFO:absl:seq\tpdb\tcid\tevalue\n",
      "WARNING:absl:No templates found.\n"
     ]
    }
   ],
   "source": [
    "# The MMSeqs2Runner object submits the amino acid sequence to\n",
    "# the MMSeqs2 server, generates a directory, and populates it with\n",
    "# data retrieved from the server. Templates may be specified by the user.\n",
    "# All templates are fetched if none are provided or the list is empty.\n",
    "mmseqs2_runner = mmseqs2.MMSeqs2Runner( jobname, sequence )\n",
    "\n",
    "# Fetch sequences and download data\n",
    "a3m_lines1, _ = mmseqs2_runner.run_job( templates = pdbs )\n",
    "a3m_lines2, _ = mmseqs2_runner.run_job( templates = pdbs )"
   ]
  },
  {
   "cell_type": "code",
   "execution_count": 6,
   "metadata": {},
   "outputs": [
    {
     "name": "stderr",
     "output_type": "stream",
     "text": [
      "2024-09-14 14:52:39.478496: W external/xla/xla/service/gpu/nvptx_compiler.cc:836] The NVIDIA driver's CUDA version is 12.2 which is older than the PTX compiler version (12.6.68). Because the driver is older than the PTX compiler version, XLA is disabling parallel compilation, which may slow down compilation. You should update your NVIDIA driver or use the NVIDIA-provided CUDA forward compatibility packages.\n",
      "DEBUG:absl:Prediction parameters:\n",
      "DEBUG:absl:\tModel ID: 2\n",
      "DEBUG:absl:\tUsing templates: False\n",
      "DEBUG:absl:\tMaximum MSA clusters: 16\n",
      "DEBUG:absl:\tMaximum extra MSA clusters: 32\n",
      "DEBUG:absl:\tNumber recycling iterations: 1\n",
      "DEBUG:absl:\tNumber of structure module repeats: 8\n",
      "INFO:absl:Running predict with shape(feat) = {'aatype': (2, 164), 'residue_index': (2, 164), 'seq_length': (2,), 'is_distillation': (2,), 'seq_mask': (2, 164), 'msa_mask': (2, 16, 164), 'msa_row_mask': (2, 16), 'random_crop_to_size_seed': (2, 2), 'atom14_atom_exists': (2, 164, 14), 'residx_atom14_to_atom37': (2, 164, 14), 'residx_atom37_to_atom14': (2, 164, 37), 'atom37_atom_exists': (2, 164, 37), 'extra_msa': (2, 32, 164), 'extra_msa_mask': (2, 32, 164), 'extra_msa_row_mask': (2, 32), 'bert_mask': (2, 16, 164), 'true_msa': (2, 16, 164), 'extra_has_deletion': (2, 32, 164), 'extra_deletion_value': (2, 32, 164), 'msa_feat': (2, 16, 164, 49), 'target_feat': (2, 164, 22)}\n",
      "INFO:absl:Output shape was {'distogram': {'bin_edges': (63,), 'logits': (164, 164, 64)}, 'experimentally_resolved': {'logits': (164, 37)}, 'masked_msa': {'logits': (16, 164, 23)}, 'predicted_aligned_error': (164, 164), 'predicted_lddt': {'logits': (164, 50)}, 'structure_module': {'final_atom_mask': (164, 37), 'final_atom_positions': (164, 37, 3)}, 'plddt': (164,), 'aligned_confidence_probs': (164, 164, 64), 'max_predicted_aligned_error': (), 'ptm': (), 'ranking_confidence': ()}\n"
     ]
    }
   ],
   "source": [
    "# A nested loop in which 5 models are generated per MSA depth value\n",
    "# In our manuscript we use three MSA depths: 32 sequences, 128, and 5120\n",
    "for nseq in msa_depths:\n",
    "  for n_model in range( n_models ):\n",
    "\n",
    "    # Randomly choose one of the two AlphaFold neural\n",
    "    # networks capable of using templates.\n",
    "    # In our experience, model 1 is more sensitive to input templates.\n",
    "    # However, this observation is purely anecdotal and not backed up by hard numbers.\n",
    "    model_id = 2\n",
    "\n",
    "    # Specify the name of the output PDB\n",
    "    outname = f\"{ n_model }_{ nseq }.pdb\"\n",
    "  \n",
    "    # Run the job and save as a PDB\n",
    "    '''\n",
    "    predict.predict_structure_from_templates(\n",
    "        mmseqs2_runner.seq, # NOTE mmseqs2_runner removes whitespace from seq\n",
    "        outname,\n",
    "        a3m_lines,\n",
    "        template_path = template_path,\n",
    "        model_id = model_id,\n",
    "        max_msa_clusters = nseq // 2,\n",
    "        max_extra_msa = nseq,\n",
    "        max_recycles = 1\n",
    "    )\n",
    "    '''\n",
    "\n",
    "    # Alternatively, users can run a template-free prediction by uncommenting\n",
    "    # the line below:\n",
    "    predict.predict_structure_no_templates(\n",
    "        sequence,\n",
    "        outname,\n",
    "        a3m_lines,\n",
    "        model_id = model_id,\n",
    "        max_msa_clusters = nseq // 2,\n",
    "        max_extra_msa = nseq,\n",
    "        max_recycles = 1\n",
    "    )"
   ]
  },
  {
   "cell_type": "code",
   "execution_count": null,
   "metadata": {},
   "outputs": [],
   "source": []
  }
 ],
 "metadata": {
  "kernelspec": {
   "display_name": "esm",
   "language": "python",
   "name": "python3"
  },
  "language_info": {
   "codemirror_mode": {
    "name": "ipython",
    "version": 3
   },
   "file_extension": ".py",
   "mimetype": "text/x-python",
   "name": "python",
   "nbconvert_exporter": "python",
   "pygments_lexer": "ipython3",
   "version": "3.10.14"
  }
 },
 "nbformat": 4,
 "nbformat_minor": 2
}
